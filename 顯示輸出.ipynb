{
 "cells": [
  {
   "cell_type": "code",
   "execution_count": 3,
   "metadata": {
    "scrolled": true
   },
   "outputs": [
    {
     "data": {
      "text/plain": [
       "-1"
      ]
     },
     "execution_count": 3,
     "metadata": {},
     "output_type": "execute_result"
    }
   ],
   "source": [
    "a=5\n",
    "b=a+1\n",
    "a-b"
   ]
  },
  {
   "cell_type": "code",
   "execution_count": 4,
   "metadata": {},
   "outputs": [
    {
     "name": "stdout",
     "output_type": "stream",
     "text": [
      "100\n"
     ]
    }
   ],
   "source": [
    "base = 99\n",
    "con=base+1\n",
    "print(con)"
   ]
  },
  {
   "cell_type": "code",
   "execution_count": 6,
   "metadata": {},
   "outputs": [
    {
     "name": "stdout",
     "output_type": "stream",
     "text": [
      "95\n",
      "7\n",
      "255\n",
      "0.000899\n",
      "21.904761904761905\n"
     ]
    }
   ],
   "source": [
    "print(0o137) #8\n",
    "print(0b111)#2\n",
    "print(0xff)#16\n",
    "print(8.99e-4)\n",
    "print(23/1.05)"
   ]
  },
  {
   "cell_type": "code",
   "execution_count": 7,
   "metadata": {},
   "outputs": [
    {
     "name": "stdout",
     "output_type": "stream",
     "text": [
      "(4.23+8.5j)\n",
      "4.23\n",
      "8.5\n",
      "(4.23-8.5j)\n"
     ]
    }
   ],
   "source": [
    "aComplex = 4.23+8.5j\n",
    "print(aComplex)\n",
    "print(aComplex.real)\n",
    "print(aComplex.imag)\n",
    "print(aComplex.conjugate())#共軛複數"
   ]
  },
  {
   "cell_type": "code",
   "execution_count": 8,
   "metadata": {},
   "outputs": [
    {
     "name": "stdout",
     "output_type": "stream",
     "text": [
      "SUM= 0\n"
     ]
    }
   ],
   "source": [
    "SUM=0\n",
    "for con in range(10,11,-1):\n",
    "# for con range(11):    \n",
    "    SUM+=con\n",
    "print(\"SUM=\",SUM)"
   ]
  },
  {
   "cell_type": "code",
   "execution_count": 9,
   "metadata": {},
   "outputs": [
    {
     "name": "stdout",
     "output_type": "stream",
     "text": [
      "t\n",
      "e\n",
      "s\n",
      "t\n",
      " \n",
      "l\n",
      "i\n",
      "s\n",
      "t\n",
      "end\n"
     ]
    }
   ],
   "source": [
    "mylist =\"test list\"\n",
    "for word in mylist:\n",
    "    print(word)\n",
    "else:\n",
    "    print(\"end\")"
   ]
  },
  {
   "cell_type": "code",
   "execution_count": 10,
   "metadata": {},
   "outputs": [
    {
     "name": "stdout",
     "output_type": "stream",
     "text": [
      "請輸入攝氏溫度5\n",
      "華氏溫度= 9.0\n"
     ]
    }
   ],
   "source": [
    "Cires = input(\"請輸入攝氏溫度\")\n",
    "facis = 9/5 * int(Cires)\n",
    "print(\"華氏溫度=\",facis)"
   ]
  },
  {
   "cell_type": "code",
   "execution_count": 15,
   "metadata": {
    "scrolled": true
   },
   "outputs": [
    {
     "name": "stdout",
     "output_type": "stream",
     "text": [
      "樣本 =  [5, 8, 9, 6, 4, 1, 2, 3, 5, 6]\n",
      "平均數 =  4.9\n",
      "最大值 =  9\n",
      "最小值=  1\n",
      "變異數 =  6.32\n",
      "標準差=  2.51\n"
     ]
    }
   ],
   "source": [
    "# 敘述統計(statistics函式庫)\n",
    "import statistics as st\n",
    "sample= [5, 8, 9, 6, 4, 1, 2, 3, 5, 6]\n",
    "print('樣本 = ', sample)\n",
    "print('平均數 = ',  st.mean(sample))\n",
    "print('最大值 = ',  max(sample))\n",
    "print('最小值= ',  min(sample))\n",
    "print('變異數 = ', round(st.variance(sample),2))\n",
    "print('標準差= ',  round(st.stdev(sample),2))"
   ]
  },
  {
   "cell_type": "code",
   "execution_count": 16,
   "metadata": {},
   "outputs": [
    {
     "name": "stdout",
     "output_type": "stream",
     "text": [
      "雞有 23 隻 兔子有 12 隻\n"
     ]
    }
   ],
   "source": [
    "for gg in range(0,36):\n",
    "    rab=35-gg\n",
    "    if(2*gg+4*rab) ==94:\n",
    "        print(\"雞有\",gg,\"隻\",\"兔子有\",rab,\"隻\")\n",
    "        break\n",
    "else:\n",
    "    print(\"無解\")"
   ]
  },
  {
   "cell_type": "code",
   "execution_count": 17,
   "metadata": {},
   "outputs": [
    {
     "name": "stdout",
     "output_type": "stream",
     "text": [
      "1+2+...+10= 55\n"
     ]
    }
   ],
   "source": [
    "sum=0\n",
    "count=0\n",
    "while count <=10:\n",
    "    sum+=count\n",
    "    count+=1\n",
    "print(\"1+2+...+10=\",sum)    "
   ]
  },
  {
   "cell_type": "code",
   "execution_count": 18,
   "metadata": {},
   "outputs": [
    {
     "name": "stdout",
     "output_type": "stream",
     "text": [
      "37 年後本金變成 20065\n"
     ]
    }
   ],
   "source": [
    "year=0\n",
    "x=10000\n",
    "while x<=20000:\n",
    "    x=x*1.019\n",
    "    year+=1\n",
    "print(year,\"年後本金變成\",int(x))"
   ]
  },
  {
   "cell_type": "code",
   "execution_count": 19,
   "metadata": {},
   "outputs": [
    {
     "name": "stdout",
     "output_type": "stream",
     "text": [
      "輸入1~5的數字: 4\n",
      "You lose\n",
      "輸入1~5的數字: 3\n",
      "You right\n"
     ]
    }
   ],
   "source": [
    "import random\n",
    "num=random.randint(1,5)\n",
    "while True:\n",
    "    guess=int(input(\"輸入1~5的數字: \"))\n",
    "    if guess==num:\n",
    "        print(\"You right\")\n",
    "        break\n",
    "    else:\n",
    "        print(\"You lose\")"
   ]
  },
  {
   "cell_type": "code",
   "execution_count": 20,
   "metadata": {},
   "outputs": [
    {
     "name": "stdout",
     "output_type": "stream",
     "text": [
      "30\n",
      "2\n",
      "33\n",
      "28\n",
      "18\n",
      "20\n"
     ]
    }
   ],
   "source": [
    "#亂數\n",
    "import numpy as np\n",
    "a=np.random.randint(1,50,size=6)\n",
    "for eacha in a:\n",
    "    print(eacha)"
   ]
  },
  {
   "cell_type": "code",
   "execution_count": null,
   "metadata": {},
   "outputs": [],
   "source": [
    "x=241\n",
    "print(type(x))\n",
    "id(x)\n",
    "x=241.0\n",
    "print(type(x))\n",
    "id(x)\n",
    "x=\"Write\"\n",
    "print(type(x))\n",
    "id(x)\n",
    "x=True\n",
    "print(type(x))\n",
    "id(x)"
   ]
  }
 ],
 "metadata": {
  "kernelspec": {
   "display_name": "Python 3",
   "language": "python",
   "name": "python3"
  },
  "language_info": {
   "codemirror_mode": {
    "name": "ipython",
    "version": 3
   },
   "file_extension": ".py",
   "mimetype": "text/x-python",
   "name": "python",
   "nbconvert_exporter": "python",
   "pygments_lexer": "ipython3",
   "version": "3.6.4"
  }
 },
 "nbformat": 4,
 "nbformat_minor": 2
}
